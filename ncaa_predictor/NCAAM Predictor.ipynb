{
 "cells": [
  {
   "cell_type": "code",
   "execution_count": 1,
   "metadata": {
    "collapsed": false
   },
   "outputs": [
    {
     "data": {
      "text/html": [
       "<script>\n",
       "code_show=true; \n",
       "function code_toggle() {\n",
       " if (code_show){\n",
       " $('div.input').hide();\n",
       " } else {\n",
       " $('div.input').show();\n",
       " }\n",
       " code_show = !code_show\n",
       "} \n",
       "$( document ).ready(code_toggle);\n",
       "</script>\n",
       "<form action=\"javascript:code_toggle()\"><input type=\"submit\" value=\"Click here to toggle on/off the raw code.\"></form>"
      ],
      "text/plain": [
       "<IPython.core.display.HTML object>"
      ]
     },
     "execution_count": 1,
     "metadata": {},
     "output_type": "execute_result"
    }
   ],
   "source": [
    "from IPython.display import HTML\n",
    "\n",
    "HTML('''<script>\n",
    "code_show=true; \n",
    "function code_toggle() {\n",
    " if (code_show){\n",
    " $('div.input').hide();\n",
    " } else {\n",
    " $('div.input').show();\n",
    " }\n",
    " code_show = !code_show\n",
    "} \n",
    "$( document ).ready(code_toggle);\n",
    "</script>\n",
    "<form action=\"javascript:code_toggle()\"><input type=\"submit\" value=\"Click here to toggle on/off the raw code.\"></form>''')"
   ]
  },
  {
   "cell_type": "code",
   "execution_count": 2,
   "metadata": {
    "collapsed": false
   },
   "outputs": [],
   "source": [
    "import pandas as pd\n",
    "import numpy as np\n",
    "import requests\n",
    "from bs4 import BeautifulSoup\n",
    "import html5lib\n",
    "import re\n",
    "from scipy.special import erf\n",
    "import math\n",
    "from ipywidgets import widgets, Layout\n",
    "from IPython.display import display\n"
   ]
  },
  {
   "cell_type": "code",
   "execution_count": 3,
   "metadata": {
    "collapsed": false
   },
   "outputs": [
    {
     "name": "stderr",
     "output_type": "stream",
     "text": [
      "/Users/jseesel/anaconda/lib/python2.7/site-packages/pandas/core/indexing.py:465: SettingWithCopyWarning: \n",
      "A value is trying to be set on a copy of a slice from a DataFrame.\n",
      "Try using .loc[row_indexer,col_indexer] = value instead\n",
      "\n",
      "See the caveats in the documentation: http://pandas.pydata.org/pandas-docs/stable/indexing.html#indexing-view-versus-copy\n",
      "  self.obj[item] = s\n"
     ]
    }
   ],
   "source": [
    "url='http://www.kenpom.com/'\n",
    "r = requests.get(url)\n",
    "soup = BeautifulSoup(r.text, 'html.parser')\n",
    "\n",
    "table = soup.find(id='ratings-table')\n",
    "for body in table(\"tbody\"):\n",
    "    body.unwrap()\n",
    "for body in table(\"thead\"):\n",
    "    body.unwrap()\n",
    "columns = ['Rank','Team','Conf','W-L','AdjEM','AdjO','AdjO_rank','AdjD',\n",
    "       'AdjD_rank','AdjT','AdjT_rank','Luck','Luck_rank','AdjEM_SoS','AdjEM_SoS_rank',\n",
    "       'OppO_SoS','OppO_SoS_rank','OppD_SoS','OppD_SoS_rank','AdjEM_NCSOS','AdjEM_NCSOS_rank']\n",
    "kp_data = pd.read_html(str(table), flavor='bs4')\n",
    "# data = data[data['Rk'] != 'Rk']\n",
    "data = kp_data[0]\n",
    "data.columns = columns\n",
    "data = data.loc[2:len(data)]\n",
    "data.loc[:,'Team'] = data.loc[:,'Team'].apply(lambda x: re.sub('[0-9]','',x))\n",
    "team_list = [str(y) for y in list(data['Team'])]\n",
    "team_list.sort()"
   ]
  },
  {
   "cell_type": "code",
   "execution_count": 4,
   "metadata": {
    "collapsed": true
   },
   "outputs": [],
   "source": [
    "def repull_data(b):\n",
    "    url='http://www.kenpom.com/'\n",
    "    r = requests.get(url)\n",
    "    soup = BeautifulSoup(r.text, 'html.parser')\n",
    "\n",
    "    table = soup.find(id='ratings-table')\n",
    "    for body in table(\"tbody\"):\n",
    "        body.unwrap()\n",
    "    for body in table(\"thead\"):\n",
    "        body.unwrap()\n",
    "    columns = ['Rank','Team','Conf','W-L','AdjEM','AdjO','AdjO_rank','AdjD',\n",
    "           'AdjD_rank','AdjT','AdjT_rank','Luck','Luck_rank','AdjEM_SoS','AdjEM_SoS_rank',\n",
    "           'OppO_SoS','OppO_SoS_rank','OppD_SoS','OppD_SoS_rank','AdjEM_NCSOS','AdjEM_NCSOS_rank']\n",
    "    kp_data = pd.read_html(str(table), flavor='bs4')\n",
    "    # data = data[data['Rk'] != 'Rk']\n",
    "    data = kp_data[0]\n",
    "    data.columns = columns\n",
    "    data = data.loc[2:len(data)]\n",
    "    data.loc[:,'Team'] = data.loc[:,'Team'].apply(lambda x: re.sub('[0-9]','',x))\n",
    "    team_list = [str(y) for y in list(data['Team'])]\n",
    "    team_list.sort()\n",
    "\n",
    "def calc_point_diff(team1, team2):\n",
    "    AdjEM_A = float(data[data['Team']==team1]['AdjEM'])\n",
    "    AdjEM_B = float(data[data['Team']==team2]['AdjEM'])\n",
    "    AdjT_A = float(data[data['Team']==team1]['AdjT'])\n",
    "    AdjT_B = float(data[data['Team']==team2]['AdjT'])\n",
    "    return (AdjEM_A - AdjEM_B)*(AdjT_A + AdjT_B)/200\n",
    "\n",
    "def win_percent(point_diff):\n",
    "    x = 0\n",
    "    sigma=11\n",
    "    return 0.5 * (1 + erf((x - point_diff)/(sigma*math.sqrt(2))))\n",
    "\n",
    "def handle_submit(sender):\n",
    "    team1_name = team_1.value\n",
    "    team2_name = team_2.value\n",
    "    point_diff = calc_point_diff(team1_name, team2_name)\n",
    "    win_pct = 100.0 * win_percent(point_diff)\n",
    "    html_string = \"\"\"{0} vs {1}<br>Point Diff: {2}<br>{0} win pct: {3}%<br>{1} win pct: {4}%\"\"\"\n",
    "    result.value = html_string.format(\n",
    "            team1_name, team2_name, point_diff, round(100.0-win_pct,2),round(win_pct,2))\n"
   ]
  },
  {
   "cell_type": "code",
   "execution_count": 5,
   "metadata": {
    "collapsed": false
   },
   "outputs": [],
   "source": [
    "team_1 = widgets.Select(\n",
    "    options=team_list,\n",
    "    description='',\n",
    "    disabled=False\n",
    ")\n",
    "\n",
    "team_2 = widgets.Select(\n",
    "    options=team_list,\n",
    "    description='',\n",
    "    disabled=False\n",
    ")\n",
    "\n",
    "result = widgets.HTML(\n",
    "    value=\"\",\n",
    "    placeholder='Some HTML',\n",
    "    description='Some HTML',\n",
    "    disabled=False\n",
    ")\n",
    "\n",
    "update_data = widgets.Button(description=\"Update the data\")\n",
    "\n",
    "\n",
    "team_1.observe(handle_submit)\n",
    "team_2.observe(handle_submit)\n",
    "update_data.on_click(repull_data)\n",
    "\n",
    "selectors = widgets.HBox([team_1,result,team_2], layout=Layout(justify_content='space-between'))\n",
    "buttons = widgets.HBox([update_data], layout=Layout(justify_content='center'))\n",
    "everything = widgets.VBox([buttons,selectors], layout=Layout(justify_content='space-between'))"
   ]
  },
  {
   "cell_type": "code",
   "execution_count": 6,
   "metadata": {
    "collapsed": false
   },
   "outputs": [],
   "source": [
    "display(everything)"
   ]
  },
  {
   "cell_type": "code",
   "execution_count": null,
   "metadata": {
    "collapsed": true
   },
   "outputs": [],
   "source": []
  },
  {
   "cell_type": "code",
   "execution_count": null,
   "metadata": {
    "collapsed": true
   },
   "outputs": [],
   "source": []
  },
  {
   "cell_type": "code",
   "execution_count": null,
   "metadata": {
    "collapsed": true
   },
   "outputs": [],
   "source": []
  },
  {
   "cell_type": "code",
   "execution_count": null,
   "metadata": {
    "collapsed": true
   },
   "outputs": [],
   "source": []
  },
  {
   "cell_type": "code",
   "execution_count": null,
   "metadata": {
    "collapsed": true
   },
   "outputs": [],
   "source": []
  }
 ],
 "metadata": {
  "anaconda-cloud": {},
  "kernelspec": {
   "display_name": "Python [conda root]",
   "language": "python",
   "name": "conda-root-py"
  },
  "language_info": {
   "codemirror_mode": {
    "name": "ipython",
    "version": 2
   },
   "file_extension": ".py",
   "mimetype": "text/x-python",
   "name": "python",
   "nbconvert_exporter": "python",
   "pygments_lexer": "ipython2",
   "version": "2.7.12"
  },
  "widgets": {
   "state": {
    "d97dc91282d04f73a23d093a5a8254ed": {
     "views": [
      {
       "cell_index": 5
      }
     ]
    }
   },
   "version": "1.2.0"
  }
 },
 "nbformat": 4,
 "nbformat_minor": 1
}
