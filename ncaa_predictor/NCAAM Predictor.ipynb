{
 "cells": [
  {
   "cell_type": "code",
   "execution_count": 312,
   "metadata": {
    "collapsed": false
   },
   "outputs": [
    {
     "data": {
      "text/html": [
       "<script>\n",
       "code_show=true; \n",
       "function code_toggle() {\n",
       " if (code_show){\n",
       " $('div.input').hide();\n",
       " } else {\n",
       " $('div.input').show();\n",
       " }\n",
       " code_show = !code_show\n",
       "} \n",
       "$( document ).ready(code_toggle);\n",
       "</script>\n",
       "<form action=\"javascript:code_toggle()\"><input type=\"submit\" value=\"Click here to toggle on/off the raw code.\"></form>"
      ],
      "text/plain": [
       "<IPython.core.display.HTML object>"
      ]
     },
     "execution_count": 312,
     "metadata": {},
     "output_type": "execute_result"
    }
   ],
   "source": [
    "from IPython.display import HTML\n",
    "\n",
    "HTML('''<script>\n",
    "code_show=true; \n",
    "function code_toggle() {\n",
    " if (code_show){\n",
    " $('div.input').hide();\n",
    " } else {\n",
    " $('div.input').show();\n",
    " }\n",
    " code_show = !code_show\n",
    "} \n",
    "$( document ).ready(code_toggle);\n",
    "</script>\n",
    "<form action=\"javascript:code_toggle()\"><input type=\"submit\" value=\"Click here to toggle on/off the raw code.\"></form>''')"
   ]
  },
  {
   "cell_type": "code",
   "execution_count": 311,
   "metadata": {
    "collapsed": false
   },
   "outputs": [],
   "source": [
    "import pandas as pd\n",
    "import numpy as np\n",
    "import requests\n",
    "from bs4 import BeautifulSoup\n",
    "import html5lib\n",
    "import re\n",
    "from scipy.special import erf\n",
    "import math\n",
    "from ipywidgets import widgets, Layout\n",
    "from IPython.display import display\n"
   ]
  },
  {
   "cell_type": "code",
   "execution_count": 317,
   "metadata": {
    "collapsed": true
   },
   "outputs": [],
   "source": [
    "def repull_data(b):\n",
    "    url='http://www.kenpom.com/'\n",
    "    r = requests.get(url)\n",
    "    soup = BeautifulSoup(r.text, 'html.parser')\n",
    "\n",
    "    table = soup.find(id='ratings-table')\n",
    "    for body in table(\"tbody\"):\n",
    "        body.unwrap()\n",
    "    for body in table(\"thead\"):\n",
    "        body.unwrap()\n",
    "    columns = ['Rank','Team','Conf','W-L','AdjEM','AdjO','AdjO_rank','AdjD',\n",
    "           'AdjD_rank','AdjT','AdjT_rank','Luck','Luck_rank','AdjEM_SoS','AdjEM_SoS_rank',\n",
    "           'OppO_SoS','OppO_SoS_rank','OppD_SoS','OppD_SoS_rank','AdjEM_NCSOS','AdjEM_NCSOS_rank']\n",
    "    kp_data = pd.read_html(str(table), flavor='bs4')\n",
    "    # data = data[data['Rk'] != 'Rk']\n",
    "    data = kp_data[0]\n",
    "    data.columns = columns\n",
    "    data = data.loc[2:len(data)]\n",
    "    data.loc[:,'Team'] = data.loc[:,'Team'].apply(lambda x: re.sub('[0-9]','',x))\n",
    "    team_list = [str(y) for y in list(data['Team'])]\n",
    "    team_list.sort()\n",
    "\n",
    "def calc_point_diff(team1, team2):\n",
    "    AdjEM_A = float(data[data['Team']==team1]['AdjEM'])\n",
    "    AdjEM_B = float(data[data['Team']==team2]['AdjEM'])\n",
    "    AdjT_A = float(data[data['Team']==team1]['AdjT'])\n",
    "    AdjT_B = float(data[data['Team']==team2]['AdjT'])\n",
    "    return (AdjEM_A - AdjEM_B)*(AdjT_A + AdjT_B)/200\n",
    "\n",
    "def win_percent(point_diff):\n",
    "    x = 0\n",
    "    sigma=11\n",
    "    return 0.5 * (1 + erf((x - point_diff)/(sigma*math.sqrt(2))))\n",
    "\n",
    "def handle_submit(sender):\n",
    "    team1_name = team_1.value\n",
    "    team2_name = team_2.value\n",
    "    point_diff = calc_point_diff(team1_name, team2_name)\n",
    "    win_pct = 100.0 * win_percent(point_diff)\n",
    "    html_string = \"\"\"{0} vs {1}<br>Point Diff: {2}<br>{0} win pct: {3}%<br>{1} win pct: {4}%\"\"\"\n",
    "    result.value = html_string.format(\n",
    "            team1_name, team2_name, point_diff, round(100.0-win_pct,2),round(win_pct,2))\n"
   ]
  },
  {
   "cell_type": "code",
   "execution_count": 318,
   "metadata": {
    "collapsed": false
   },
   "outputs": [],
   "source": [
    "repull_data(None)"
   ]
  },
  {
   "cell_type": "code",
   "execution_count": 269,
   "metadata": {
    "collapsed": true
   },
   "outputs": [],
   "source": []
  },
  {
   "cell_type": "code",
   "execution_count": 319,
   "metadata": {
    "collapsed": false
   },
   "outputs": [],
   "source": [
    "team_1 = widgets.Select(\n",
    "    options=team_list,\n",
    "    description='',\n",
    "    disabled=False\n",
    ")\n",
    "\n",
    "team_2 = widgets.Select(\n",
    "    options=team_list,\n",
    "    description='',\n",
    "    disabled=False\n",
    ")\n",
    "\n",
    "result = widgets.HTML(\n",
    "    value=\"\",\n",
    "    placeholder='Some HTML',\n",
    "    description='Some HTML',\n",
    "    disabled=False\n",
    ")\n",
    "\n",
    "update_data = widgets.Button(description=\"Update the data\")\n",
    "\n",
    "\n",
    "team_1.observe(handle_submit)\n",
    "team_2.observe(handle_submit)\n",
    "update_data.on_click(repull_data)\n",
    "\n",
    "selectors = widgets.HBox([team_1,result,team_2], layout=Layout(justify_content='space-between'))\n",
    "buttons = widgets.HBox([update_data], layout=Layout(justify_content='center'))\n",
    "everything = widgets.VBox([buttons,selectors], layout=Layout(justify_content='space-between'))"
   ]
  },
  {
   "cell_type": "code",
   "execution_count": 320,
   "metadata": {
    "collapsed": false
   },
   "outputs": [],
   "source": [
    "display(everything)"
   ]
  },
  {
   "cell_type": "code",
   "execution_count": null,
   "metadata": {
    "collapsed": true
   },
   "outputs": [],
   "source": []
  },
  {
   "cell_type": "code",
   "execution_count": null,
   "metadata": {
    "collapsed": true
   },
   "outputs": [],
   "source": []
  },
  {
   "cell_type": "code",
   "execution_count": null,
   "metadata": {
    "collapsed": true
   },
   "outputs": [],
   "source": []
  },
  {
   "cell_type": "code",
   "execution_count": null,
   "metadata": {
    "collapsed": true
   },
   "outputs": [],
   "source": []
  },
  {
   "cell_type": "code",
   "execution_count": null,
   "metadata": {
    "collapsed": true
   },
   "outputs": [],
   "source": []
  }
 ],
 "metadata": {
  "anaconda-cloud": {},
  "kernelspec": {
   "display_name": "Python [conda root]",
   "language": "python",
   "name": "conda-root-py"
  },
  "language_info": {
   "codemirror_mode": {
    "name": "ipython",
    "version": 2
   },
   "file_extension": ".py",
   "mimetype": "text/x-python",
   "name": "python",
   "nbconvert_exporter": "python",
   "pygments_lexer": "ipython2",
   "version": "2.7.12"
  },
  "widgets": {
   "state": {
    "0896400a15cd4b3db230e9ab76be2615": {
     "views": [
      {
       "cell_index": 14
      }
     ]
    },
    "0dffeaf9ea584eeaa658d936d665f145": {
     "views": [
      {
       "cell_index": 14
      }
     ]
    },
    "15e3f50a2e5644658f501cbaed058cdf": {
     "views": [
      {
       "cell_index": 14
      }
     ]
    },
    "32ec6dc1633d409d99df7643084d28ad": {
     "views": [
      {
       "cell_index": 15
      }
     ]
    },
    "40f2a3e37c874410a4396858898a89a6": {
     "views": [
      {
       "cell_index": 14
      }
     ]
    },
    "4c2e638b1d074894b3b6af36fbb099ba": {
     "views": [
      {
       "cell_index": 5
      }
     ]
    },
    "4cfd9a10a92447c3a9c3e08511648640": {
     "views": [
      {
       "cell_index": 14
      }
     ]
    },
    "54d6294899f540a18fcc590e26155d81": {
     "views": [
      {
       "cell_index": 14
      }
     ]
    },
    "55d4a25b520d4ae98e814202a87430b3": {
     "views": [
      {
       "cell_index": 5
      }
     ]
    },
    "643a6c6ce7aa468fa29ec829d7e92d8b": {
     "views": [
      {
       "cell_index": 5
      }
     ]
    },
    "6bddedcea82d41eda045979d77082435": {
     "views": [
      {
       "cell_index": 14
      }
     ]
    },
    "82ca853677a641df81b6c3642d524fe2": {
     "views": [
      {
       "cell_index": 14
      }
     ]
    },
    "8f8520254b91485e91febfd899d948e5": {
     "views": [
      {
       "cell_index": 14
      }
     ]
    },
    "95d6f3c4c01e422281e09d7de9c426bd": {
     "views": [
      {
       "cell_index": 14
      }
     ]
    },
    "a2aee913be5d44c09c1b09b4802d6d92": {
     "views": [
      {
       "cell_index": 14
      }
     ]
    },
    "ad817443091f430a97f73e47110f2a2b": {
     "views": [
      {
       "cell_index": 14
      }
     ]
    },
    "b9aef0ab542d4601b59a258118b867a3": {
     "views": [
      {
       "cell_index": 5
      }
     ]
    },
    "bf4a0f4f94f341dda2252221277756da": {
     "views": [
      {
       "cell_index": 14
      }
     ]
    },
    "c8960120d3824985b49b23f32ca58849": {
     "views": [
      {
       "cell_index": 6
      }
     ]
    },
    "cd9d35e6f3eb45b7be94ae8eaa7367fe": {
     "views": [
      {
       "cell_index": 14
      }
     ]
    },
    "dab31e689ce24304b6e68a8716174d5e": {
     "views": [
      {
       "cell_index": 13
      },
      {
       "cell_index": 15
      },
      {
       "cell_index": 15
      }
     ]
    },
    "debc730652a844059946ff477641f143": {
     "views": [
      {
       "cell_index": 14
      }
     ]
    },
    "e38bac9f08804115824a77b0b1db3a9d": {
     "views": [
      {
       "cell_index": 14
      }
     ]
    }
   },
   "version": "1.2.0"
  }
 },
 "nbformat": 4,
 "nbformat_minor": 1
}
